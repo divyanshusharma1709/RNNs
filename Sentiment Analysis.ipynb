{
 "cells": [
  {
   "cell_type": "code",
   "execution_count": 3,
   "metadata": {},
   "outputs": [],
   "source": [
    "from tflearn.data_utils import to_categorical, pad_sequences\n",
    "from tflearn.datasets import imdb"
   ]
  },
  {
   "cell_type": "code",
   "execution_count": 5,
   "metadata": {},
   "outputs": [],
   "source": [
    "train, test, _ = imdb.load_data(path = 'imdb.pkl', n_words = 30000, valid_portion = 0.1)"
   ]
  },
  {
   "cell_type": "code",
   "execution_count": 6,
   "metadata": {},
   "outputs": [],
   "source": [
    "trainX, trainY = train\n",
    "testX, testY = test"
   ]
  },
  {
   "cell_type": "code",
   "execution_count": 7,
   "metadata": {},
   "outputs": [],
   "source": [
    "trainX = pad_sequences(trainX, maxlen = 500, value = 0.)\n",
    "testX = pad_sequences(testX, maxlen = 500, value = 0.)\n",
    "trainY = to_categorical(trainY, nb_classes = 2)\n",
    "testY = to_categorical(testY, nb_classes = 2)"
   ]
  },
  {
   "cell_type": "code",
   "execution_count": 9,
   "metadata": {},
   "outputs": [],
   "source": [
    "class IMDBdataset():\n",
    "    def __init__(self, X, Y):\n",
    "        self.num_examples = len(X)\n",
    "        self.inputs = X\n",
    "        self.tags = Y\n",
    "        self.ptr = 0\n",
    "    def minibatch(self, size):\n",
    "        ret = None\n",
    "        if self.ptr + size < len(self.inputs):\n",
    "            ret = self.inputs[self.ptr:self.ptr + size], self.tags[self.ptr:self.ptr + size]\n",
    "        else:\n",
    "            ret = np.concatenate((self.inputs[self.ptr:], self.inputs[:size-len(self.inputs[self.ptr:])])), np.concatenate((self.tags[self.ptr:], self.tags[:size-len(self.tags[self.ptr:])]))\n",
    "        self.ptr = (self.ptr + size)%len(self.inputs)\n",
    "        return ret"
   ]
  },
  {
   "cell_type": "code",
   "execution_count": 10,
   "metadata": {},
   "outputs": [],
   "source": [
    "train = IMDBdataset(trainX, trainY)\n",
    "val = IMDBdataset(testX, testY)"
   ]
  },
  {
   "cell_type": "code",
   "execution_count": 12,
   "metadata": {},
   "outputs": [],
   "source": [
    "def embedding_layer(input, weight_shape):\n",
    "    weight_init = tf.random_normal_initializer(stddedv = (1.0/weight_shape[0])**0.5)\n",
    "    E = tf.get_variable(\"E\", weight_shape, initializer = weigh_init)\n",
    "    incoming = tf.cast(input, tf.int32)\n",
    "    embeddings = tf.nn.embedding_lookup(E, incoming)\n",
    "    return embeddings"
   ]
  },
  {
   "cell_type": "code",
   "execution_count": 13,
   "metadata": {},
   "outputs": [],
   "source": [
    "def lstm(input, hidden_dim, keep_prob, phase_train):\n",
    "    lstm = tf.nn.rnn_cell.BasicLSTMCell(hidden_dim)\n",
    "    dropout_lstm = tf.nn.rnn_cell.DropoutWrapper(lstm, input_keep_prob = keep_prob, output_keep_prob = keep_prob)\n",
    "    lstm_outputs, state = tf.nn.dynamic_rnn(dropout_lstm, input, dtype = tf.float32)\n",
    "    return tf.squeeze(tf.slice(lstm_outputs,[0, tf.shape(lstm_outputs)[1]-1, 0], [tf.shape(lstm_outputs)[0],1,tf.shape(lstm_outputs)[2]]))"
   ]
  },
  {
   "cell_type": "code",
   "execution_count": 14,
   "metadata": {},
   "outputs": [],
   "source": [
    "def inference(input, phase_train):\n",
    "    embedding = embedding_layer(input, [30000, 512])\n",
    "    lstm_output = lstm(embedding, 512, 0.5, phase_train)\n",
    "    output = layer(lstm_output, [512, 2], [2], phase_train)\n",
    "    return output"
   ]
  },
  {
   "cell_type": "code",
   "execution_count": null,
   "metadata": {},
   "outputs": [],
   "source": []
  }
 ],
 "metadata": {
  "kernelspec": {
   "display_name": "Python 3",
   "language": "python",
   "name": "python3"
  },
  "language_info": {
   "codemirror_mode": {
    "name": "ipython",
    "version": 3
   },
   "file_extension": ".py",
   "mimetype": "text/x-python",
   "name": "python",
   "nbconvert_exporter": "python",
   "pygments_lexer": "ipython3",
   "version": "3.6.5"
  }
 },
 "nbformat": 4,
 "nbformat_minor": 2
}
